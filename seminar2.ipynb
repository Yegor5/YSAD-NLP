{
 "cells": [
  {
   "cell_type": "markdown",
   "metadata": {},
   "source": [
    "# Large scale text analysis with deep learning (3 points)\n",
    "\n",
    "Today we're gonna apply the newly learned tools for the task of predicting job salary.\n",
    "\n",
    "<img src=\"https://storage.googleapis.com/kaggle-competitions/kaggle/3342/media/salary%20prediction%20engine%20v2.png\" width=400px>\n",
    "\n",
    "_Special thanks to [Oleg Vasilev](https://github.com/Omrigan/) for the core assignment idea._"
   ]
  },
  {
   "cell_type": "code",
   "execution_count": 2,
   "metadata": {},
   "outputs": [],
   "source": [
    "import numpy as np\n",
    "import pandas as pd\n",
    "import matplotlib.pyplot as plt\n",
    "%matplotlib inline"
   ]
  },
  {
   "cell_type": "markdown",
   "metadata": {},
   "source": [
    "### About the challenge\n",
    "For starters, let's download and unpack the data from [here]. \n",
    "\n",
    "You can also get it from [yadisk url](https://yadi.sk/d/vVEOWPFY3NruT7) the competition [page](https://www.kaggle.com/c/job-salary-prediction/data) (pick `Train_rev1.*`)."
   ]
  },
  {
   "cell_type": "code",
   "execution_count": 4,
   "metadata": {},
   "outputs": [
    {
     "data": {
      "text/plain": [
       "(244768, 12)"
      ]
     },
     "execution_count": 4,
     "metadata": {},
     "output_type": "execute_result"
    }
   ],
   "source": [
    "data = pd.read_csv(\"Train_rev1.csv\", index_col=None)\n",
    "data.shape"
   ]
  },
  {
   "cell_type": "code",
   "execution_count": 5,
   "metadata": {},
   "outputs": [
    {
     "data": {
      "text/html": [
       "<div>\n",
       "<style scoped>\n",
       "    .dataframe tbody tr th:only-of-type {\n",
       "        vertical-align: middle;\n",
       "    }\n",
       "\n",
       "    .dataframe tbody tr th {\n",
       "        vertical-align: top;\n",
       "    }\n",
       "\n",
       "    .dataframe thead th {\n",
       "        text-align: right;\n",
       "    }\n",
       "</style>\n",
       "<table border=\"1\" class=\"dataframe\">\n",
       "  <thead>\n",
       "    <tr style=\"text-align: right;\">\n",
       "      <th></th>\n",
       "      <th>Id</th>\n",
       "      <th>Title</th>\n",
       "      <th>FullDescription</th>\n",
       "      <th>LocationRaw</th>\n",
       "      <th>LocationNormalized</th>\n",
       "      <th>ContractType</th>\n",
       "      <th>ContractTime</th>\n",
       "      <th>Company</th>\n",
       "      <th>Category</th>\n",
       "      <th>SalaryRaw</th>\n",
       "      <th>SalaryNormalized</th>\n",
       "      <th>SourceName</th>\n",
       "    </tr>\n",
       "  </thead>\n",
       "  <tbody>\n",
       "    <tr>\n",
       "      <th>0</th>\n",
       "      <td>12612628</td>\n",
       "      <td>Engineering Systems Analyst</td>\n",
       "      <td>Engineering Systems Analyst Dorking Surrey Sal...</td>\n",
       "      <td>Dorking, Surrey, Surrey</td>\n",
       "      <td>Dorking</td>\n",
       "      <td>NaN</td>\n",
       "      <td>permanent</td>\n",
       "      <td>Gregory Martin International</td>\n",
       "      <td>Engineering Jobs</td>\n",
       "      <td>20000 - 30000/annum 20-30K</td>\n",
       "      <td>25000</td>\n",
       "      <td>cv-library.co.uk</td>\n",
       "    </tr>\n",
       "    <tr>\n",
       "      <th>1</th>\n",
       "      <td>12612830</td>\n",
       "      <td>Stress Engineer Glasgow</td>\n",
       "      <td>Stress Engineer Glasgow Salary **** to **** We...</td>\n",
       "      <td>Glasgow, Scotland, Scotland</td>\n",
       "      <td>Glasgow</td>\n",
       "      <td>NaN</td>\n",
       "      <td>permanent</td>\n",
       "      <td>Gregory Martin International</td>\n",
       "      <td>Engineering Jobs</td>\n",
       "      <td>25000 - 35000/annum 25-35K</td>\n",
       "      <td>30000</td>\n",
       "      <td>cv-library.co.uk</td>\n",
       "    </tr>\n",
       "    <tr>\n",
       "      <th>2</th>\n",
       "      <td>12612844</td>\n",
       "      <td>Modelling and simulation analyst</td>\n",
       "      <td>Mathematical Modeller / Simulation Analyst / O...</td>\n",
       "      <td>Hampshire, South East, South East</td>\n",
       "      <td>Hampshire</td>\n",
       "      <td>NaN</td>\n",
       "      <td>permanent</td>\n",
       "      <td>Gregory Martin International</td>\n",
       "      <td>Engineering Jobs</td>\n",
       "      <td>20000 - 40000/annum 20-40K</td>\n",
       "      <td>30000</td>\n",
       "      <td>cv-library.co.uk</td>\n",
       "    </tr>\n",
       "    <tr>\n",
       "      <th>3</th>\n",
       "      <td>12613049</td>\n",
       "      <td>Engineering Systems Analyst / Mathematical Mod...</td>\n",
       "      <td>Engineering Systems Analyst / Mathematical Mod...</td>\n",
       "      <td>Surrey, South East, South East</td>\n",
       "      <td>Surrey</td>\n",
       "      <td>NaN</td>\n",
       "      <td>permanent</td>\n",
       "      <td>Gregory Martin International</td>\n",
       "      <td>Engineering Jobs</td>\n",
       "      <td>25000 - 30000/annum 25K-30K negotiable</td>\n",
       "      <td>27500</td>\n",
       "      <td>cv-library.co.uk</td>\n",
       "    </tr>\n",
       "    <tr>\n",
       "      <th>4</th>\n",
       "      <td>12613647</td>\n",
       "      <td>Pioneer, Miser Engineering Systems Analyst</td>\n",
       "      <td>Pioneer, Miser  Engineering Systems Analyst Do...</td>\n",
       "      <td>Surrey, South East, South East</td>\n",
       "      <td>Surrey</td>\n",
       "      <td>NaN</td>\n",
       "      <td>permanent</td>\n",
       "      <td>Gregory Martin International</td>\n",
       "      <td>Engineering Jobs</td>\n",
       "      <td>20000 - 30000/annum 20-30K</td>\n",
       "      <td>25000</td>\n",
       "      <td>cv-library.co.uk</td>\n",
       "    </tr>\n",
       "  </tbody>\n",
       "</table>\n",
       "</div>"
      ],
      "text/plain": [
       "         Id                                              Title  \\\n",
       "0  12612628                        Engineering Systems Analyst   \n",
       "1  12612830                            Stress Engineer Glasgow   \n",
       "2  12612844                   Modelling and simulation analyst   \n",
       "3  12613049  Engineering Systems Analyst / Mathematical Mod...   \n",
       "4  12613647         Pioneer, Miser Engineering Systems Analyst   \n",
       "\n",
       "                                     FullDescription  \\\n",
       "0  Engineering Systems Analyst Dorking Surrey Sal...   \n",
       "1  Stress Engineer Glasgow Salary **** to **** We...   \n",
       "2  Mathematical Modeller / Simulation Analyst / O...   \n",
       "3  Engineering Systems Analyst / Mathematical Mod...   \n",
       "4  Pioneer, Miser  Engineering Systems Analyst Do...   \n",
       "\n",
       "                         LocationRaw LocationNormalized ContractType  \\\n",
       "0            Dorking, Surrey, Surrey            Dorking          NaN   \n",
       "1        Glasgow, Scotland, Scotland            Glasgow          NaN   \n",
       "2  Hampshire, South East, South East          Hampshire          NaN   \n",
       "3     Surrey, South East, South East             Surrey          NaN   \n",
       "4     Surrey, South East, South East             Surrey          NaN   \n",
       "\n",
       "  ContractTime                       Company          Category  \\\n",
       "0    permanent  Gregory Martin International  Engineering Jobs   \n",
       "1    permanent  Gregory Martin International  Engineering Jobs   \n",
       "2    permanent  Gregory Martin International  Engineering Jobs   \n",
       "3    permanent  Gregory Martin International  Engineering Jobs   \n",
       "4    permanent  Gregory Martin International  Engineering Jobs   \n",
       "\n",
       "                                SalaryRaw  SalaryNormalized        SourceName  \n",
       "0              20000 - 30000/annum 20-30K             25000  cv-library.co.uk  \n",
       "1              25000 - 35000/annum 25-35K             30000  cv-library.co.uk  \n",
       "2              20000 - 40000/annum 20-40K             30000  cv-library.co.uk  \n",
       "3  25000 - 30000/annum 25K-30K negotiable             27500  cv-library.co.uk  \n",
       "4              20000 - 30000/annum 20-30K             25000  cv-library.co.uk  "
      ]
     },
     "execution_count": 5,
     "metadata": {},
     "output_type": "execute_result"
    }
   ],
   "source": [
    "data.head()"
   ]
  },
  {
   "cell_type": "markdown",
   "metadata": {},
   "source": [
    "One problem with salary prediction is that it's oddly distributed: there are many people who are paid standard salaries and a few that get tons o money. The distribution is fat-tailed on the right side, which is inconvenient for MSE minimization.\n",
    "\n",
    "There are several techniques to combat this: using a different loss function, predicting log-target instead of raw target or even replacing targets with their percentiles among all salaries in the training set. We gonna use logarithm for now.\n",
    "\n",
    "_You can read more [in the official description](https://www.kaggle.com/c/job-salary-prediction#description)._"
   ]
  },
  {
   "cell_type": "code",
   "execution_count": 8,
   "metadata": {},
   "outputs": [
    {
     "data": {
      "image/png": "[encoded data removed]",
      "text/plain": [
       "<Figure size 800x400 with 2 Axes>"
      ]
     },
     "metadata": {},
     "output_type": "display_data"
    }
   ],
   "source": [
    "data['Log1pSalary'] = np.log1p(data['SalaryNormalized']).astype('float32')\n",
    "\n",
    "plt.figure(figsize=[8, 4])\n",
    "plt.subplot(1, 2, 1)\n",
    "plt.hist(data[\"SalaryNormalized\"], bins=20)\n",
    "plt.grid(True)\n",
    "\n",
    "plt.subplot(1, 2, 2)\n",
    "plt.hist(data['Log1pSalary'], bins=20)\n",
    "plt.grid(True)"
   ]
  },
  {
   "cell_type": "markdown",
   "metadata": {},
   "source": [
    "Our task is to predict one number, __Log1pSalary__.\n",
    "\n",
    "To do so, our model can access a number of features:\n",
    "* Free text: __`Title`__ and  __`FullDescription`__\n",
    "* Categorical: __`Category`__, __`Company`__, __`LocationNormalized`__, __`ContractType`__, and __`ContractTime`__."
   ]
  },
  {
   "cell_type": "code",
   "execution_count": 9,
   "metadata": {},
   "outputs": [
    {
     "data": {
      "text/html": [
       "<div>\n",
       "<style scoped>\n",
       "    .dataframe tbody tr th:only-of-type {\n",
       "        vertical-align: middle;\n",
       "    }\n",
       "\n",
       "    .dataframe tbody tr th {\n",
       "        vertical-align: top;\n",
       "    }\n",
       "\n",
       "    .dataframe thead th {\n",
       "        text-align: right;\n",
       "    }\n",
       "</style>\n",
       "<table border=\"1\" class=\"dataframe\">\n",
       "  <thead>\n",
       "    <tr style=\"text-align: right;\">\n",
       "      <th></th>\n",
       "      <th>Id</th>\n",
       "      <th>Title</th>\n",
       "      <th>FullDescription</th>\n",
       "      <th>LocationRaw</th>\n",
       "      <th>LocationNormalized</th>\n",
       "      <th>ContractType</th>\n",
       "      <th>ContractTime</th>\n",
       "      <th>Company</th>\n",
       "      <th>Category</th>\n",
       "      <th>SalaryRaw</th>\n",
       "      <th>SalaryNormalized</th>\n",
       "      <th>SourceName</th>\n",
       "      <th>Log1pSalary</th>\n",
       "    </tr>\n",
       "  </thead>\n",
       "  <tbody>\n",
       "    <tr>\n",
       "      <th>222042</th>\n",
       "      <td>72393565</td>\n",
       "      <td>Geotechnical Engineer  Slope Protection  Roads</td>\n",
       "      <td>Geotechnical Engineer  Slope Protection My cli...</td>\n",
       "      <td>Oman</td>\n",
       "      <td>UK</td>\n",
       "      <td>NaN</td>\n",
       "      <td>contract</td>\n",
       "      <td>EWI Recruitment</td>\n",
       "      <td>Engineering Jobs</td>\n",
       "      <td>3103.28 per month + Accomodation and Travel</td>\n",
       "      <td>37239</td>\n",
       "      <td>ncejobs.co.uk</td>\n",
       "      <td>10.525139</td>\n",
       "    </tr>\n",
       "    <tr>\n",
       "      <th>163992</th>\n",
       "      <td>71230903</td>\n",
       "      <td>Process Engineer  Design</td>\n",
       "      <td>Our client is a leading provider of Bulk Mater...</td>\n",
       "      <td>Doncaster</td>\n",
       "      <td>Doncaster</td>\n",
       "      <td>NaN</td>\n",
       "      <td>permanent</td>\n",
       "      <td>Newman Stewart Limited</td>\n",
       "      <td>Engineering Jobs</td>\n",
       "      <td>40k - 50k pa + package</td>\n",
       "      <td>45000</td>\n",
       "      <td>justengineers.net</td>\n",
       "      <td>10.714440</td>\n",
       "    </tr>\n",
       "    <tr>\n",
       "      <th>147100</th>\n",
       "      <td>70756122</td>\n",
       "      <td>Territory Building Maintenance Technician</td>\n",
       "      <td>We are looking for Territory Building Maintena...</td>\n",
       "      <td>Alfreton</td>\n",
       "      <td>Alfreton</td>\n",
       "      <td>NaN</td>\n",
       "      <td>NaN</td>\n",
       "      <td>Carillion Plc</td>\n",
       "      <td>Trade &amp; Construction Jobs</td>\n",
       "      <td>22000 - 28000 per annum</td>\n",
       "      <td>25000</td>\n",
       "      <td>MyUkJobs</td>\n",
       "      <td>10.126671</td>\n",
       "    </tr>\n",
       "  </tbody>\n",
       "</table>\n",
       "</div>"
      ],
      "text/plain": [
       "              Id                                           Title  \\\n",
       "222042  72393565  Geotechnical Engineer  Slope Protection  Roads   \n",
       "163992  71230903                        Process Engineer  Design   \n",
       "147100  70756122       Territory Building Maintenance Technician   \n",
       "\n",
       "                                          FullDescription LocationRaw  \\\n",
       "222042  Geotechnical Engineer  Slope Protection My cli...        Oman   \n",
       "163992  Our client is a leading provider of Bulk Mater...   Doncaster   \n",
       "147100  We are looking for Territory Building Maintena...    Alfreton   \n",
       "\n",
       "       LocationNormalized ContractType ContractTime                 Company  \\\n",
       "222042                 UK          NaN     contract         EWI Recruitment   \n",
       "163992          Doncaster          NaN    permanent  Newman Stewart Limited   \n",
       "147100           Alfreton          NaN          NaN           Carillion Plc   \n",
       "\n",
       "                         Category  \\\n",
       "222042           Engineering Jobs   \n",
       "163992           Engineering Jobs   \n",
       "147100  Trade & Construction Jobs   \n",
       "\n",
       "                                          SalaryRaw  SalaryNormalized  \\\n",
       "222042  3103.28 per month + Accomodation and Travel             37239   \n",
       "163992                       40k - 50k pa + package             45000   \n",
       "147100                      22000 - 28000 per annum             25000   \n",
       "\n",
       "               SourceName  Log1pSalary  \n",
       "222042      ncejobs.co.uk    10.525139  \n",
       "163992  justengineers.net    10.714440  \n",
       "147100           MyUkJobs    10.126671  "
      ]
     },
     "execution_count": 9,
     "metadata": {},
     "output_type": "execute_result"
    }
   ],
   "source": [
    "text_columns = [\"Title\", \"FullDescription\"]\n",
    "categorical_columns = [\"Category\", \"Company\", \"LocationNormalized\", \"ContractType\", \"ContractTime\"]\n",
    "TARGET_COLUMN = \"Log1pSalary\"\n",
    "\n",
    "data[categorical_columns] = data[categorical_columns].fillna('NaN') # cast missing values to string \"NaN\"\n",
    "data.dropna(inplace=True)\n",
    "\n",
    "data.sample(3)"
   ]
  },
  {
   "cell_type": "markdown",
   "metadata": {},
   "source": [
    "### Preprocessing text data\n",
    "\n",
    "Just like last week, applying NLP to a problem begins from tokenization: splitting raw text into sequences of tokens (words, punctuation, etc).\n",
    "\n",
    "__Your task__ is to lowercase and tokenize all texts under `Title` and `FullDescription` columns. Store the tokenized data as a __space-separated__ string of tokens for performance reasons.\n",
    "\n",
    "It's okay to use nltk tokenizers. Assertions were designed for WordPunctTokenizer, slight deviations are okay."
   ]
  },
  {
   "cell_type": "code",
   "execution_count": 11,
   "metadata": {
    "scrolled": true
   },
   "outputs": [
    {
     "name": "stdout",
     "output_type": "stream",
     "text": [
      "Raw text:\n",
      "2         Mathematical Modeller / Simulation Analyst / O...\n",
      "100003    Strategy Education have been approached by a s...\n",
      "200003    Working within the financial sector, in the cl...\n",
      "Name: FullDescription, dtype: object\n"
     ]
    }
   ],
   "source": [
    "print(\"Raw text:\")\n",
    "print(data[\"FullDescription\"][2::100000])"
   ]
  },
  {
   "cell_type": "code",
   "execution_count": 12,
   "metadata": {},
   "outputs": [],
   "source": [
    "import nltk\n",
    "\n",
    "\n",
    "tokenizer = nltk.tokenize.WordPunctTokenizer()"
   ]
  },
  {
   "cell_type": "code",
   "execution_count": 13,
   "metadata": {},
   "outputs": [],
   "source": [
    "def tok(s):\n",
    "    return ' '.join(tokenizer.tokenize(s.lower()))\n",
    "\n",
    "\n",
    "data['Title'] = data['Title'].apply(tok)\n",
    "data['FullDescription'] = data['FullDescription'].apply(tok)"
   ]
  },
  {
   "cell_type": "markdown",
   "metadata": {},
   "source": [
    "Now we can assume that our text is a space-separated list of tokens:"
   ]
  },
  {
   "cell_type": "code",
   "execution_count": 14,
   "metadata": {},
   "outputs": [
    {
     "name": "stdout",
     "output_type": "stream",
     "text": [
      "Tokenized:\n",
      "2         mathematical modeller / simulation analyst / o...\n",
      "100003    strategy education have been approached by a s...\n",
      "200003    working within the financial sector , in the c...\n",
      "Name: FullDescription, dtype: object\n"
     ]
    }
   ],
   "source": [
    "print(\"Tokenized:\")\n",
    "print(data[\"FullDescription\"][2::100000])\n",
    "assert data[\"FullDescription\"][2][:50] == 'mathematical modeller / simulation analyst / opera'\n",
    "assert data[\"Title\"][54321] == 'international digital account manager ( german )'"
   ]
  },
  {
   "cell_type": "markdown",
   "metadata": {},
   "source": [
    "Not all words are equally useful. Some of them are typos or rare words that are only present a few times. \n",
    "\n",
    "Let's count how many times is each word present in the data so that we can build a \"white list\" of known words."
   ]
  },
  {
   "cell_type": "code",
   "execution_count": 15,
   "metadata": {},
   "outputs": [],
   "source": [
    "from collections import Counter\n",
    "\n",
    "\n",
    "token_counts = Counter()\n",
    "for row in data['Title'].values:\n",
    "    token_counts.update(row.split())\n",
    "for row in data['FullDescription'].values:\n",
    "    token_counts.update(row.split())"
   ]
  },
  {
   "cell_type": "code",
   "execution_count": 16,
   "metadata": {},
   "outputs": [
    {
     "name": "stdout",
     "output_type": "stream",
     "text": [
      "Total unique tokens : 202704\n",
      "('and', 2657383)\n",
      "('.', 2523211)\n",
      "(',', 2318602)\n",
      "('the', 2080989)\n",
      "('to', 2019882)\n",
      "...\n",
      "('stephanietraveltraderecruitmnt', 1)\n",
      "('ruabon', 1)\n",
      "('lowehays', 1)\n",
      "Correct!\n"
     ]
    }
   ],
   "source": [
    "print(\"Total unique tokens :\", len(token_counts))\n",
    "print('\\n'.join(map(str, token_counts.most_common(n=5))))\n",
    "print('...')\n",
    "print('\\n'.join(map(str, token_counts.most_common()[-3:])))\n",
    "\n",
    "assert token_counts.most_common(1)[0][1] in  range(2600000, 2700000)\n",
    "assert len(token_counts) in range(200000, 210000)\n",
    "print('Correct!')"
   ]
  },
  {
   "cell_type": "code",
   "execution_count": 19,
   "metadata": {},
   "outputs": [
    {
     "data": {
      "text/plain": [
       "Text(0.5, 0, 'Word counts')"
      ]
     },
     "execution_count": 19,
     "metadata": {},
     "output_type": "execute_result"
    },
    {
     "data": {
      "image/png": "[encoded data removed]",
      "text/plain": [
       "<Figure size 640x480 with 1 Axes>"
      ]
     },
     "metadata": {},
     "output_type": "display_data"
    }
   ],
   "source": [
    "# Let's see how many words are there for each count\n",
    "plt.hist(list(token_counts.values()), range=[0, 10**4], bins=50, log=True)\n",
    "plt.xlabel(\"Word counts\")"
   ]
  },
  {
   "cell_type": "markdown",
   "metadata": {},
   "source": [
    "__Task 1.1__ Get a list of all tokens that occur at least 10 times."
   ]
  },
  {
   "cell_type": "code",
   "execution_count": 20,
   "metadata": {},
   "outputs": [],
   "source": [
    "min_count = 10\n",
    "\n",
    "# tokens from token_counts keys that had at least min_count occurrences throughout the dataset\n",
    "tokens = sorted(t for t, c in token_counts.items() if c >= min_count)\n",
    "\n",
    "# Add a special tokens for unknown and empty words\n",
    "UNK, PAD = \"UNK\", \"PAD\"\n",
    "tokens = [UNK, PAD] + tokens"
   ]
  },
  {
   "cell_type": "code",
   "execution_count": 21,
   "metadata": {},
   "outputs": [
    {
     "name": "stdout",
     "output_type": "stream",
     "text": [
      "Vocabulary size: 34158\n",
      "Correct!\n"
     ]
    }
   ],
   "source": [
    "print(\"Vocabulary size:\", len(tokens))\n",
    "assert type(tokens) == list\n",
    "assert len(tokens) in range(32000, 35000)\n",
    "assert 'me' in tokens\n",
    "assert UNK in tokens\n",
    "print(\"Correct!\")"
   ]
  },
  {
   "cell_type": "markdown",
   "metadata": {},
   "source": [
    "__Task 1.2__ Build an inverse token index: a dictionary from token(string) to it's index in `tokens` (int)"
   ]
  },
  {
   "cell_type": "code",
   "execution_count": 22,
   "metadata": {},
   "outputs": [],
   "source": [
    "token_to_id = {}\n",
    "for i in range(len(tokens)):\n",
    "    token_to_id[tokens[i]] = i"
   ]
  },
  {
   "cell_type": "code",
   "execution_count": 23,
   "metadata": {},
   "outputs": [
    {
     "name": "stdout",
     "output_type": "stream",
     "text": [
      "Correct!\n"
     ]
    }
   ],
   "source": [
    "assert isinstance(token_to_id, dict)\n",
    "assert len(token_to_id) == len(tokens)\n",
    "for tok in tokens:\n",
    "    assert tokens[token_to_id[tok]] == tok\n",
    "\n",
    "print(\"Correct!\")"
   ]
  },
  {
   "cell_type": "markdown",
   "metadata": {},
   "source": [
    "And finally, let's use the vocabulary you've built to map text lines into neural network-digestible matrices."
   ]
  },
  {
   "cell_type": "code",
   "execution_count": 28,
   "metadata": {},
   "outputs": [],
   "source": [
    "UNK_IX, PAD_IX = map(token_to_id.get, [UNK, PAD])\n",
    "\n",
    "def as_matrix(sequences, max_len=None):\n",
    "    \"\"\" Convert a list of tokens into a matrix with padding \"\"\"\n",
    "    if isinstance(sequences[0], str):\n",
    "        sequences = list(map(str.split, sequences))\n",
    "        \n",
    "    max_len = min(max(map(len, sequences)), max_len or float('inf'))\n",
    "    \n",
    "    matrix = np.full((len(sequences), max_len), np.int32(PAD_IX))\n",
    "    for i, seq in enumerate(sequences):\n",
    "        row_ix = [token_to_id.get(word, UNK_IX) for word in seq[:max_len]]\n",
    "        matrix[i, :len(row_ix)] = row_ix\n",
    "    \n",
    "    return matrix"
   ]
  },
  {
   "cell_type": "code",
   "execution_count": 29,
   "metadata": {},
   "outputs": [
    {
     "name": "stdout",
     "output_type": "stream",
     "text": [
      "Lines:\n",
      "engineering systems analyst\n",
      "year 3 teacher northampton\n",
      "senior associate employment solutions\n",
      "\n",
      "Matrix:\n",
      "[[10807 30161  2166     1]\n",
      " [33946   565 30401 21284]\n",
      " [27645  2866 10672 28662]]\n"
     ]
    }
   ],
   "source": [
    "print(\"Lines:\")\n",
    "print('\\n'.join(data[\"Title\"][::100000].values), end='\\n\\n')\n",
    "print(\"Matrix:\")\n",
    "print(as_matrix(data[\"Title\"][::100000]))"
   ]
  },
  {
   "cell_type": "markdown",
   "metadata": {},
   "source": [
    "Now let's  encode the categirical data we have.\n",
    "\n",
    "As usual, we shall use one-hot encoding for simplicity. Kudos if you implement more advanced encodings: tf-idf, pseudo-time-series, etc."
   ]
  },
  {
   "cell_type": "code",
   "execution_count": 30,
   "metadata": {},
   "outputs": [
    {
     "data": {
      "text/html": [
       "<style>#sk-container-id-1 {color: black;background-color: white;}#sk-container-id-1 pre{padding: 0;}#sk-container-id-1 div.sk-toggleable {background-color: white;}#sk-container-id-1 label.sk-toggleable__label {cursor: pointer;display: block;width: 100%;margin-bottom: 0;padding: 0.3em;box-sizing: border-box;text-align: center;}#sk-container-id-1 label.sk-toggleable__label-arrow:before {content: \"▸\";float: left;margin-right: 0.25em;color: #696969;}#sk-container-id-1 label.sk-toggleable__label-arrow:hover:before {color: black;}#sk-container-id-1 div.sk-estimator:hover label.sk-toggleable__label-arrow:before {color: black;}#sk-container-id-1 div.sk-toggleable__content {max-height: 0;max-width: 0;overflow: hidden;text-align: left;background-color: #f0f8ff;}#sk-container-id-1 div.sk-toggleable__content pre {margin: 0.2em;color: black;border-radius: 0.25em;background-color: #f0f8ff;}#sk-container-id-1 input.sk-toggleable__control:checked~div.sk-toggleable__content {max-height: 200px;max-width: 100%;overflow: auto;}#sk-container-id-1 input.sk-toggleable__control:checked~label.sk-toggleable__label-arrow:before {content: \"▾\";}#sk-container-id-1 div.sk-estimator input.sk-toggleable__control:checked~label.sk-toggleable__label {background-color: #d4ebff;}#sk-container-id-1 div.sk-label input.sk-toggleable__control:checked~label.sk-toggleable__label {background-color: #d4ebff;}#sk-container-id-1 input.sk-hidden--visually {border: 0;clip: rect(1px 1px 1px 1px);clip: rect(1px, 1px, 1px, 1px);height: 1px;margin: -1px;overflow: hidden;padding: 0;position: absolute;width: 1px;}#sk-container-id-1 div.sk-estimator {font-family: monospace;background-color: #f0f8ff;border: 1px dotted black;border-radius: 0.25em;box-sizing: border-box;margin-bottom: 0.5em;}#sk-container-id-1 div.sk-estimator:hover {background-color: #d4ebff;}#sk-container-id-1 div.sk-parallel-item::after {content: \"\";width: 100%;border-bottom: 1px solid gray;flex-grow: 1;}#sk-container-id-1 div.sk-label:hover label.sk-toggleable__label {background-color: #d4ebff;}#sk-container-id-1 div.sk-serial::before {content: \"\";position: absolute;border-left: 1px solid gray;box-sizing: border-box;top: 0;bottom: 0;left: 50%;z-index: 0;}#sk-container-id-1 div.sk-serial {display: flex;flex-direction: column;align-items: center;background-color: white;padding-right: 0.2em;padding-left: 0.2em;position: relative;}#sk-container-id-1 div.sk-item {position: relative;z-index: 1;}#sk-container-id-1 div.sk-parallel {display: flex;align-items: stretch;justify-content: center;background-color: white;position: relative;}#sk-container-id-1 div.sk-item::before, #sk-container-id-1 div.sk-parallel-item::before {content: \"\";position: absolute;border-left: 1px solid gray;box-sizing: border-box;top: 0;bottom: 0;left: 50%;z-index: -1;}#sk-container-id-1 div.sk-parallel-item {display: flex;flex-direction: column;z-index: 1;position: relative;background-color: white;}#sk-container-id-1 div.sk-parallel-item:first-child::after {align-self: flex-end;width: 50%;}#sk-container-id-1 div.sk-parallel-item:last-child::after {align-self: flex-start;width: 50%;}#sk-container-id-1 div.sk-parallel-item:only-child::after {width: 0;}#sk-container-id-1 div.sk-dashed-wrapped {border: 1px dashed gray;margin: 0 0.4em 0.5em 0.4em;box-sizing: border-box;padding-bottom: 0.4em;background-color: white;}#sk-container-id-1 div.sk-label label {font-family: monospace;font-weight: bold;display: inline-block;line-height: 1.2em;}#sk-container-id-1 div.sk-label-container {text-align: center;}#sk-container-id-1 div.sk-container {/* jupyter's `normalize.less` sets `[hidden] { display: none; }` but bootstrap.min.css set `[hidden] { display: none !important; }` so we also need the `!important` here to be able to override the default hidden behavior on the sphinx rendered scikit-learn.org. See: https://github.com/scikit-learn/scikit-learn/issues/21755 */display: inline-block !important;position: relative;}#sk-container-id-1 div.sk-text-repr-fallback {display: none;}</style><div id=\"sk-container-id-1\" class=\"sk-top-container\"><div class=\"sk-text-repr-fallback\"><pre>DictVectorizer(dtype=&lt;class &#x27;numpy.float32&#x27;&gt;, sparse=False)</pre><b>In a Jupyter environment, please rerun this cell to show the HTML representation or trust the notebook. <br />On GitHub, the HTML representation is unable to render, please try loading this page with nbviewer.org.</b></div><div class=\"sk-container\" hidden><div class=\"sk-item\"><div class=\"sk-estimator sk-toggleable\"><input class=\"sk-toggleable__control sk-hidden--visually\" id=\"sk-estimator-id-1\" type=\"checkbox\" checked><label for=\"sk-estimator-id-1\" class=\"sk-toggleable__label sk-toggleable__label-arrow\">DictVectorizer</label><div class=\"sk-toggleable__content\"><pre>DictVectorizer(dtype=&lt;class &#x27;numpy.float32&#x27;&gt;, sparse=False)</pre></div></div></div></div></div>"
      ],
      "text/plain": [
       "DictVectorizer(dtype=<class 'numpy.float32'>, sparse=False)"
      ]
     },
     "execution_count": 30,
     "metadata": {},
     "output_type": "execute_result"
    }
   ],
   "source": [
    "from sklearn.feature_extraction import DictVectorizer\n",
    "\n",
    "# we only consider top-1k most frequent companies to minimize memory usage\n",
    "top_companies, top_counts = zip(*Counter(data['Company']).most_common(1000))\n",
    "recognized_companies = set(top_companies)\n",
    "data[\"Company\"] = data[\"Company\"].apply(lambda comp: comp if comp in recognized_companies else \"Other\")\n",
    "\n",
    "categorical_vectorizer = DictVectorizer(dtype=np.float32, sparse=False)\n",
    "categorical_vectorizer.fit(data[categorical_columns].apply(dict, axis=1))"
   ]
  },
  {
   "cell_type": "markdown",
   "metadata": {},
   "source": [
    "### The deep learning part\n",
    "\n",
    "Once we've learned to tokenize the data, let's design a machine learning experiment.\n",
    "\n",
    "As before, we won't focus too much on validation, opting for a simple train-test split.\n",
    "\n",
    "__To be completely rigorous,__ we've comitted a small crime here: we used the whole data for tokenization and vocabulary building. A more strict way would be to do that part on training set only. You may want to do that and measure the magnitude of changes."
   ]
  },
  {
   "cell_type": "code",
   "execution_count": 31,
   "metadata": {},
   "outputs": [
    {
     "name": "stdout",
     "output_type": "stream",
     "text": [
      "Train size =  195812\n",
      "Validation size =  48954\n"
     ]
    }
   ],
   "source": [
    "from sklearn.model_selection import train_test_split\n",
    "\n",
    "data_train, data_val = train_test_split(data, test_size=0.2, random_state=42)\n",
    "data_train.index = range(len(data_train))\n",
    "data_val.index = range(len(data_val))\n",
    "\n",
    "print(\"Train size = \", len(data_train))\n",
    "print(\"Validation size = \", len(data_val))"
   ]
  },
  {
   "cell_type": "code",
   "execution_count": 32,
   "metadata": {},
   "outputs": [],
   "source": [
    "import torch\n",
    "import torch.nn as nn\n",
    "import torch.functional as F\n",
    "\n",
    "\n",
    "device = 'cuda' if torch.cuda.is_available() else 'cpu'\n",
    "\n",
    "\n",
    "def to_tensors(batch, device):\n",
    "    batch_tensors = dict()\n",
    "    for key, arr in batch.items():\n",
    "        if key in [\"FullDescription\", \"Title\"]:\n",
    "            batch_tensors[key] = torch.tensor(arr, device=device, dtype=torch.int64)\n",
    "        else:\n",
    "            batch_tensors[key] = torch.tensor(arr, device=device)\n",
    "    return batch_tensors\n",
    "\n",
    "\n",
    "def make_batch(data, max_len=None, word_dropout=0, device=device):\n",
    "    \"\"\"\n",
    "    Creates a keras-friendly dict from the batch data.\n",
    "    :param word_dropout: replaces token index with UNK_IX with this probability\n",
    "    :returns: a dict with {'title' : int64[batch, title_max_len]\n",
    "    \"\"\"\n",
    "    batch = {}\n",
    "    batch[\"Title\"] = as_matrix(data[\"Title\"].values, max_len)\n",
    "    batch[\"FullDescription\"] = as_matrix(data[\"FullDescription\"].values, max_len)\n",
    "    batch['Categorical'] = categorical_vectorizer.transform(data[categorical_columns].apply(dict, axis=1))\n",
    "    \n",
    "    if word_dropout != 0:\n",
    "        batch[\"FullDescription\"] = apply_word_dropout(batch[\"FullDescription\"], 1. - word_dropout)\n",
    "    \n",
    "    if TARGET_COLUMN in data.columns:\n",
    "        batch[TARGET_COLUMN] = data[TARGET_COLUMN].values\n",
    "    \n",
    "    return to_tensors(batch, device)\n",
    "\n",
    "def apply_word_dropout(matrix, keep_prop, replace_with=UNK_IX, pad_ix=PAD_IX,):\n",
    "    dropout_mask = np.random.choice(2, np.shape(matrix), p=[keep_prop, 1 - keep_prop])\n",
    "    dropout_mask &= matrix != pad_ix\n",
    "    return np.choose(dropout_mask, [matrix, np.full_like(matrix, replace_with)])"
   ]
  },
  {
   "cell_type": "code",
   "execution_count": 35,
   "metadata": {
    "scrolled": true
   },
   "outputs": [
    {
     "data": {
      "text/plain": [
       "{'Title': tensor([[23234,  9075,     1,     1,     1,     1,     1],\n",
       "         [27645, 29019, 10804,     1,     1,     1,     1],\n",
       "         [ 7574, 16690, 10804, 18371,   158,  3958,  8418]], device='cuda:0'),\n",
       " 'FullDescription': tensor([[ 2142, 11425, 21956, 14220,  2596, 12587,   982, 23234,  9075, 31100],\n",
       "         [30847, 16451,  2142, 11425,   158,  4510, 20918, 26621,   158,  7859],\n",
       "         [ 7574, 16690, 10804, 18371,   158,  3958,  8418,   158, 20610,   158]],\n",
       "        device='cuda:0'),\n",
       " 'Categorical': tensor([[0., 0., 0.,  ..., 0., 0., 0.],\n",
       "         [0., 0., 0.,  ..., 0., 0., 0.],\n",
       "         [0., 0., 0.,  ..., 0., 0., 0.]], device='cuda:0'),\n",
       " 'Log1pSalary': tensor([10.3090, 10.6573, 11.0429], device='cuda:0')}"
      ]
     },
     "execution_count": 35,
     "metadata": {},
     "output_type": "execute_result"
    }
   ],
   "source": [
    "make_batch(data_train[:3], max_len=10)"
   ]
  },
  {
   "cell_type": "markdown",
   "metadata": {},
   "source": [
    "#### Architecture\n",
    "\n",
    "Our basic model consists of three branches:\n",
    "* Title encoder\n",
    "* Description encoder\n",
    "* Categorical features encoder\n",
    "\n",
    "We will then feed all 3 branches into one common network that predicts salary.\n",
    "\n",
    "![scheme](https://github.com/yandexdataschool/nlp_course/raw/master/resources/w2_conv_arch.png)"
   ]
  },
  {
   "cell_type": "markdown",
   "metadata": {},
   "source": [
    "This clearly doesn't fit into keras' __Sequential__ interface. To build such a network, one will have to use PyTorch."
   ]
  },
  {
   "cell_type": "code",
   "execution_count": 79,
   "metadata": {},
   "outputs": [],
   "source": [
    "class SalaryPredictor(nn.Module):\n",
    "    def __init__(self, n_tokens=len(tokens), n_cat_features=len(categorical_vectorizer.vocabulary_), hid_size=64):\n",
    "        super().__init__()\n",
    "        self.embedding = torch.nn.Embedding(n_tokens, hid_size)\n",
    "        self.conv_title = torch.nn.Conv1d(hid_size, hid_size, 3)\n",
    "        self.conv_description = torch.nn.Conv1d(hid_size, hid_size, 3)\n",
    "        self.pool_title = torch.nn.AdaptiveMaxPool1d(1)\n",
    "        self.pool_description = torch.nn.AdaptiveMaxPool1d(1)\n",
    "        self.linear1 = torch.nn.Linear(2 * hid_size + n_cat_features, hid_size)\n",
    "        self.linear2 = torch.nn.Linear(hid_size, 1)\n",
    "        \n",
    "    def forward(self, batch):\n",
    "        title = self.embedding(batch['Title']).transpose(1, 2)\n",
    "        title = torch.nn.functional.relu(self.conv_title(title))\n",
    "        title = torch.squeeze(self.pool_title(title))\n",
    "        \n",
    "        description = self.embedding(batch['FullDescription']).transpose(1, 2)\n",
    "        description = torch.nn.functional.relu(self.conv_description(description))\n",
    "        description = torch.squeeze(self.pool_description(description))\n",
    "        \n",
    "        inputs = torch.cat((title, description, batch['Categorical']), dim=1)\n",
    "        return torch.squeeze(self.linear2(torch.nn.functional.relu(self.linear1(inputs))))\n",
    "        "
   ]
  },
  {
   "cell_type": "code",
   "execution_count": 80,
   "metadata": {},
   "outputs": [],
   "source": [
    "model = SalaryPredictor().to(device)\n",
    "batch = make_batch(data_train[:100])\n",
    "criterion = nn.MSELoss()\n",
    "\n",
    "dummy_pred = model(batch)\n",
    "dummy_loss = criterion(dummy_pred, batch[TARGET_COLUMN])\n",
    "assert dummy_pred.shape == torch.Size([100])\n",
    "assert len(torch.unique(dummy_pred)) > 20, \"model returns suspiciously few unique outputs. Check your initialization\"\n",
    "assert dummy_loss.ndim == 0 and 0. <= dummy_loss <= 250., \"make sure you minimize MSE\""
   ]
  },
  {
   "cell_type": "markdown",
   "metadata": {},
   "source": [
    "#### Training and evaluation\n",
    "\n",
    "As usual, we gonna feed our monster with random minibatches of data. \n",
    "\n",
    "As we train, we want to monitor not only loss function, which is computed in log-space, but also the actual error measured in dollars."
   ]
  },
  {
   "cell_type": "code",
   "execution_count": 81,
   "metadata": {},
   "outputs": [],
   "source": [
    "def iterate_minibatches(data, batch_size=256, shuffle=True, cycle=False, device=device, **kwargs):\n",
    "    \"\"\" iterates minibatches of data in random order \"\"\"\n",
    "    while True:\n",
    "        indices = np.arange(len(data))\n",
    "        if shuffle:\n",
    "            indices = np.random.permutation(indices)\n",
    "\n",
    "        for start in range(0, len(indices), batch_size):\n",
    "            batch = make_batch(data.iloc[indices[start : start + batch_size]], device=device, **kwargs)\n",
    "            yield batch\n",
    "        \n",
    "        if not cycle: break"
   ]
  },
  {
   "cell_type": "markdown",
   "metadata": {},
   "source": [
    "### Model training\n",
    "\n",
    "We can now fit our model the usual minibatch way. The interesting part is that we train on an infinite stream of minibatches, produced by `iterate_minibatches` function."
   ]
  },
  {
   "cell_type": "code",
   "execution_count": 82,
   "metadata": {},
   "outputs": [],
   "source": [
    "from tqdm.auto import tqdm\n",
    "\n",
    "BATCH_SIZE = 16\n",
    "EPOCHS = 5"
   ]
  },
  {
   "cell_type": "code",
   "execution_count": 83,
   "metadata": {},
   "outputs": [],
   "source": [
    "def print_metrics(model, data, batch_size=BATCH_SIZE, name=\"\", device=torch.device('cpu'), **kw):\n",
    "    squared_error = abs_error = num_samples = 0.0\n",
    "    model.eval()\n",
    "    with torch.no_grad():\n",
    "        for batch in iterate_minibatches(data, batch_size=batch_size, shuffle=False, device=device, **kw):\n",
    "            batch_pred = model(batch)\n",
    "            squared_error += torch.sum(torch.square(batch_pred - batch[TARGET_COLUMN]))\n",
    "            abs_error += torch.sum(torch.abs(batch_pred - batch[TARGET_COLUMN]))\n",
    "            num_samples += len(batch_pred)\n",
    "    mse = squared_error.detach().cpu().numpy() / num_samples\n",
    "    mae = abs_error.detach().cpu().numpy() / num_samples\n",
    "    print(\"%s results:\" % (name or \"\"))\n",
    "    print(\"Mean square error: %.5f\" % mse)\n",
    "    print(\"Mean absolute error: %.5f\" % mae)\n",
    "    return mse, mae"
   ]
  },
  {
   "cell_type": "code",
   "execution_count": 84,
   "metadata": {},
   "outputs": [
    {
     "name": "stdout",
     "output_type": "stream",
     "text": [
      "epoch: 0\n"
     ]
    },
    {
     "data": {
      "application/vnd.jupyter.widget-view+json": {
       "model_id": "8ae4ce6882834a1f967d9188eaf40aa9",
       "version_major": 2,
       "version_minor": 0
      },
      "text/plain": [
       "  0%|          | 0/12238 [00:00<?, ?it/s]"
      ]
     },
     "metadata": {},
     "output_type": "display_data"
    },
    {
     "name": "stdout",
     "output_type": "stream",
     "text": [
      " results:\n",
      "Mean square error: 0.17073\n",
      "Mean absolute error: 0.31768\n",
      "epoch: 1\n"
     ]
    },
    {
     "data": {
      "application/vnd.jupyter.widget-view+json": {
       "model_id": "617e294d31fb4fbabef7097b43c6d17b",
       "version_major": 2,
       "version_minor": 0
      },
      "text/plain": [
       "  0%|          | 0/12238 [00:00<?, ?it/s]"
      ]
     },
     "metadata": {},
     "output_type": "display_data"
    },
    {
     "name": "stdout",
     "output_type": "stream",
     "text": [
      " results:\n",
      "Mean square error: 0.12162\n",
      "Mean absolute error: 0.26385\n",
      "epoch: 2\n"
     ]
    },
    {
     "data": {
      "application/vnd.jupyter.widget-view+json": {
       "model_id": "bfe3bb6c6318409f80618c0241cb5a67",
       "version_major": 2,
       "version_minor": 0
      },
      "text/plain": [
       "  0%|          | 0/12238 [00:00<?, ?it/s]"
      ]
     },
     "metadata": {},
     "output_type": "display_data"
    },
    {
     "name": "stdout",
     "output_type": "stream",
     "text": [
      " results:\n",
      "Mean square error: 0.11179\n",
      "Mean absolute error: 0.25488\n",
      "epoch: 3\n"
     ]
    },
    {
     "data": {
      "application/vnd.jupyter.widget-view+json": {
       "model_id": "cf779f4b6bcb4dc4a8d99fa547baa027",
       "version_major": 2,
       "version_minor": 0
      },
      "text/plain": [
       "  0%|          | 0/12238 [00:00<?, ?it/s]"
      ]
     },
     "metadata": {},
     "output_type": "display_data"
    },
    {
     "name": "stdout",
     "output_type": "stream",
     "text": [
      " results:\n",
      "Mean square error: 0.10932\n",
      "Mean absolute error: 0.25282\n",
      "epoch: 4\n"
     ]
    },
    {
     "data": {
      "application/vnd.jupyter.widget-view+json": {
       "model_id": "edc1c0f682454c53822153b3b46e9688",
       "version_major": 2,
       "version_minor": 0
      },
      "text/plain": [
       "  0%|          | 0/12238 [00:00<?, ?it/s]"
      ]
     },
     "metadata": {},
     "output_type": "display_data"
    },
    {
     "name": "stdout",
     "output_type": "stream",
     "text": [
      " results:\n",
      "Mean square error: 0.09898\n",
      "Mean absolute error: 0.23753\n"
     ]
    }
   ],
   "source": [
    "model = SalaryPredictor().to(device)\n",
    "criterion = nn.MSELoss(reduction='sum')\n",
    "optimizer = torch.optim.SGD(model.parameters(), lr=1e-4)\n",
    "\n",
    "for epoch in range(EPOCHS):\n",
    "    print(f\"epoch: {epoch}\")\n",
    "    model.train()\n",
    "    for i, batch in tqdm(enumerate(\n",
    "            iterate_minibatches(data_train, batch_size=BATCH_SIZE, device=device)),\n",
    "            total=len(data_train) // BATCH_SIZE\n",
    "        ):\n",
    "        pred = model(batch)\n",
    "        loss = criterion(pred, batch[TARGET_COLUMN])\n",
    "        optimizer.zero_grad()\n",
    "        loss.backward()\n",
    "        optimizer.step()\n",
    "        \n",
    "    print_metrics(model, data_val, device=device)"
   ]
  },
  {
   "cell_type": "markdown",
   "metadata": {},
   "source": [
    "### Bonus part: explaining model predictions\n",
    "\n",
    "It's usually a good idea to understand how your model works before you let it make actual decisions. It's simple for linear models: just see which words learned positive or negative weights. However, its much harder for neural networks that learn complex nonlinear dependencies.\n",
    "\n",
    "There are, however, some ways to look inside the black box:\n",
    "* Seeing how model responds to input perturbations\n",
    "* Finding inputs that maximize/minimize activation of some chosen neurons (_read more [on distill.pub](https://distill.pub/2018/building-blocks/)_)\n",
    "* Building local linear approximations to your neural network: [article](https://arxiv.org/abs/1602.04938), [eli5 library](https://github.com/TeamHG-Memex/eli5/tree/master/eli5/formatters)\n",
    "\n",
    "Today we gonna try the first method just because it's the simplest one."
   ]
  },
  {
   "cell_type": "code",
   "execution_count": 88,
   "metadata": {},
   "outputs": [],
   "source": [
    "def explain(model, sample, col_name='Title'):\n",
    "    \"\"\" Computes the effect each word had on model predictions \"\"\"\n",
    "    sample = dict(sample)\n",
    "    sample_col_tokens = [tokens[token_to_id.get(tok, 0)] for tok in sample[col_name].split()]\n",
    "    data_drop_one_token = pd.DataFrame([sample] * (len(sample_col_tokens) + 1))\n",
    "\n",
    "    for drop_i in range(len(sample_col_tokens)):\n",
    "        data_drop_one_token.loc[drop_i, col_name] = ' '.join(UNK if i == drop_i else tok\n",
    "                                                   for i, tok in enumerate(sample_col_tokens)) \n",
    "\n",
    "    *predictions_drop_one_token, baseline_pred = model(make_batch(data_drop_one_token, device=device)).detach().cpu()\n",
    "    diffs = baseline_pred - torch.Tensor(predictions_drop_one_token)\n",
    "    return list(zip(sample_col_tokens, diffs))"
   ]
  },
  {
   "cell_type": "code",
   "execution_count": 89,
   "metadata": {},
   "outputs": [],
   "source": [
    "from IPython.display import HTML, display_html\n",
    "\n",
    "\n",
    "def draw_html(tokens_and_weights, cmap=plt.get_cmap(\"bwr\"), display=True,\n",
    "              token_template=\"\"\"<span style=\"background-color: {color_hex}\">{token}</span>\"\"\",\n",
    "              font_style=\"font-size:14px;\"\n",
    "             ):\n",
    "    \n",
    "    def get_color_hex(weight):\n",
    "        rgba = cmap(1. / (1 + np.exp(float(weight))), bytes=True)\n",
    "        return '#%02X%02X%02X' % rgba[:3]\n",
    "    \n",
    "    tokens_html = [\n",
    "        token_template.format(token=token, color_hex=get_color_hex(weight))\n",
    "        for token, weight in tokens_and_weights\n",
    "    ]\n",
    "    \n",
    "    \n",
    "    raw_html = \"\"\"<p style=\"{}\">{}</p>\"\"\".format(font_style, ' '.join(tokens_html))\n",
    "    if display:\n",
    "        display_html(HTML(raw_html))\n",
    "        \n",
    "    return raw_html\n",
    "    "
   ]
  },
  {
   "cell_type": "code",
   "execution_count": 90,
   "metadata": {},
   "outputs": [
    {
     "data": {
      "text/html": [
       "<p style=\"font-size:20px;\"><span style=\"background-color: #FAFAFF\">sales</span> <span style=\"background-color: #CCCCFF\">specialist</span> <span style=\"background-color: #FFF2F2\">iv</span> <span style=\"background-color: #C8C8FF\">access</span> <span style=\"background-color: #FFFAFA\">and</span> <span style=\"background-color: #EAEAFF\">infusion</span></p>"
      ]
     },
     "metadata": {},
     "output_type": "display_data"
    },
    {
     "data": {
      "text/html": [
       "<p style=\"font-size:14px;\"><span style=\"background-color: #FFFEFE\">sales</span> <span style=\"background-color: #FFFCFC\">representative</span> <span style=\"background-color: #FFECEC\">medical</span> <span style=\"background-color: #FFFEFE\">sales</span> <span style=\"background-color: #FFFEFE\">iv</span> <span style=\"background-color: #FFFEFE\">access</span> <span style=\"background-color: #FFFEFE\">and</span> <span style=\"background-color: #FFFEFE\">infusion</span> <span style=\"background-color: #FFFEFE\">an</span> <span style=\"background-color: #9E9EFF\">opportunity</span> <span style=\"background-color: #8282FF\">to</span> <span style=\"background-color: #9C9CFF\">work</span> <span style=\"background-color: #FFFEFE\">for</span> <span style=\"background-color: #FFFEFE\">the</span> <span style=\"background-color: #FFF8F8\">industry</span> <span style=\"background-color: #FFECEC\">leading</span> <span style=\"background-color: #FFFEFE\">manufacturer</span> <span style=\"background-color: #FFFAFA\">of</span> <span style=\"background-color: #FFF8F8\">iv</span> <span style=\"background-color: #FFFEFE\">access</span> <span style=\"background-color: #FFFEFE\">and</span> <span style=\"background-color: #FFFCFC\">infusion</span> <span style=\"background-color: #FFFEFE\">solutions</span> <span style=\"background-color: #FFFEFE\">.</span> <span style=\"background-color: #E8E8FF\">formally</span> <span style=\"background-color: #FFFCFC\">recognised</span> <span style=\"background-color: #FFFEFE\">as</span> <span style=\"background-color: #DCDCFF\">the</span> <span style=\"background-color: #FFFCFC\">number</span> <span style=\"background-color: #FCFCFF\">****</span> <span style=\"background-color: #FFFEFE\">company</span> <span style=\"background-color: #FFFEFE\">in</span> <span style=\"background-color: #FFFEFE\">this</span> <span style=\"background-color: #FFFEFE\">market</span> <span style=\"background-color: #FFFCFC\">space</span> <span style=\"background-color: #FFFEFE\">,</span> <span style=\"background-color: #FFFAFA\">our</span> <span style=\"background-color: #FEFEFF\">client</span> <span style=\"background-color: #FEFEFF\">are</span> <span style=\"background-color: #FEFEFF\">an</span> <span style=\"background-color: #FFFEFE\">ethical</span> <span style=\"background-color: #E3E3FF\">and</span> <span style=\"background-color: #F6F6FF\">dynamic</span> <span style=\"background-color: #F3F3FF\">organisation</span> <span style=\"background-color: #FFFEFE\">absolutely</span> <span style=\"background-color: #D0D0FF\">committed</span> <span style=\"background-color: #D6D6FF\">to</span> <span style=\"background-color: #D6D6FF\">the</span> <span style=\"background-color: #F8F8FF\">advancement</span> <span style=\"background-color: #FFF8F8\">of</span> <span style=\"background-color: #FFFEFE\">innovative</span> <span style=\"background-color: #FFFEFE\">technologies</span> <span style=\"background-color: #FFF8F8\">.</span> <span style=\"background-color: #FAFAFF\">job</span> <span style=\"background-color: #FFF8F8\">title</span> <span style=\"background-color: #FFFEFE\">:</span> <span style=\"background-color: #FFFEFE\">sales</span> <span style=\"background-color: #FFFEFE\">specialist</span> <span style=\"background-color: #FFF8F8\">iv</span> <span style=\"background-color: #FFFEFE\">access</span> <span style=\"background-color: #FFFEFE\">and</span> <span style=\"background-color: #FFFEFE\">infusion</span> <span style=\"background-color: #FFFEFE\">selling</span> <span style=\"background-color: #FFFEFE\">:</span> <span style=\"background-color: #FFE8E8\">medication</span> <span style=\"background-color: #FFFEFE\">delivery</span> <span style=\"background-color: #FFF0F0\">solutions</span> <span style=\"background-color: #FFFEFE\">selling</span> <span style=\"background-color: #FFF4F4\">to</span> <span style=\"background-color: #FFFEFE\">:</span> <span style=\"background-color: #FFFEFE\">iv</span> <span style=\"background-color: #FFFEFE\">teams</span> <span style=\"background-color: #FFEEEE\">,</span> <span style=\"background-color: #FFFEFE\">infection</span> <span style=\"background-color: #FFFAFA\">control</span> <span style=\"background-color: #FFFEFE\">,</span> <span style=\"background-color: #FEFEFF\">lead</span> <span style=\"background-color: #FFF0F0\">intensive</span> <span style=\"background-color: #FFFEFE\">care</span> <span style=\"background-color: #FFFEFE\">nurse</span> <span style=\"background-color: #FFE2E2\">specialists</span> <span style=\"background-color: #FFFEFE\">,</span> <span style=\"background-color: #FFFEFE\">ward</span> <span style=\"background-color: #FFFEFE\">managers</span> <span style=\"background-color: #FFFEFE\">territory</span> <span style=\"background-color: #FFFCFC\">:</span> <span style=\"background-color: #FFFEFE\">east</span> <span style=\"background-color: #FFFEFE\">midlands</span> <span style=\"background-color: #FFFEFE\">location</span> <span style=\"background-color: #FFFCFC\">:</span> <span style=\"background-color: #FFFEFE\">east</span> <span style=\"background-color: #FFFCFC\">midlands</span> <span style=\"background-color: #FFFEFE\">package</span> <span style=\"background-color: #FFF6F6\">:</span> <span style=\"background-color: #FFFEFE\">basic</span> <span style=\"background-color: #FCFCFF\">:</span> <span style=\"background-color: #FFFAFA\">****</span> <span style=\"background-color: #FFFCFC\">k</span> <span style=\"background-color: #FFEAEA\">****</span> <span style=\"background-color: #F6F6FF\">k</span> <span style=\"background-color: #FFE4E4\">,</span> <span style=\"background-color: #FFFEFE\">uncapped</span> <span style=\"background-color: #FFFAFA\">bonus</span> <span style=\"background-color: #FEFEFF\">in</span> <span style=\"background-color: #FEFEFF\">addition</span> <span style=\"background-color: #F3F3FF\">,</span> <span style=\"background-color: #FFFEFE\">full</span> <span style=\"background-color: #ECECFF\">corporate</span> <span style=\"background-color: #FFF2F2\">benefits</span> <span style=\"background-color: #FFFEFE\">company</span> <span style=\"background-color: #FFFEFE\">information</span> <span style=\"background-color: #D2D2FF\">hugely</span> <span style=\"background-color: #E0E0FF\">ethical</span> <span style=\"background-color: #EAEAFF\">and</span> <span style=\"background-color: #FFB8B8\">professional</span> <span style=\"background-color: #FFE4E4\">global</span> <span style=\"background-color: #FFFEFE\">organisation</span> <span style=\"background-color: #FFFEFE\">extremely</span> <span style=\"background-color: #FAFAFF\">well</span> <span style=\"background-color: #C6C6FF\">established</span> <span style=\"background-color: #9292FF\">in</span> <span style=\"background-color: #EEEEFF\">the</span> <span style=\"background-color: #FFF4F4\">uk</span> <span style=\"background-color: #FEFEFF\">the</span> <span style=\"background-color: #FFF8F8\">market</span> <span style=\"background-color: #FEFEFF\">leader</span> <span style=\"background-color: #FFFEFE\">across</span> <span style=\"background-color: #FFFEFE\">all</span> <span style=\"background-color: #CECEFF\">of</span> <span style=\"background-color: #ECECFF\">their</span> <span style=\"background-color: #E8E8FF\">core</span> <span style=\"background-color: #D2D2FF\">business</span> <span style=\"background-color: #FFDADA\">areas</span> <span style=\"background-color: #FFDCDC\">focus</span> <span style=\"background-color: #FFFEFE\">on</span> <span style=\"background-color: #FFFEFE\">providing</span> <span style=\"background-color: #FFECEC\">cutting</span> <span style=\"background-color: #EEEEFF\">edge</span> <span style=\"background-color: #F3F3FF\">solutions</span> <span style=\"background-color: #FFF2F2\">along</span> <span style=\"background-color: #FCFCFF\">with</span> <span style=\"background-color: #FFEAEA\">outstanding</span> <span style=\"background-color: #FFF4F4\">service</span> <span style=\"background-color: #F8F8FF\">and</span> <span style=\"background-color: #FFFEFE\">support</span> <span style=\"background-color: #FFEEEE\">a</span> <span style=\"background-color: #FFFEFE\">business</span> <span style=\"background-color: #FFFEFE\">that</span> <span style=\"background-color: #FFFEFE\">retain</span> <span style=\"background-color: #FFFEFE\">talented</span> <span style=\"background-color: #F3F3FF\">personnel</span> <span style=\"background-color: #FFFEFE\">by</span> <span style=\"background-color: #FFF6F6\">offering</span> <span style=\"background-color: #F6F6FF\">a</span> <span style=\"background-color: #FCFCFF\">strong</span> <span style=\"background-color: #F6F6FF\">platform</span> <span style=\"background-color: #FFF2F2\">for</span> <span style=\"background-color: #FFF8F8\">career</span> <span style=\"background-color: #FFF0F0\">development</span> <span style=\"background-color: #FFFAFA\">sales</span> <span style=\"background-color: #FFFEFE\">specialist</span> <span style=\"background-color: #FFF8F8\">iv</span> <span style=\"background-color: #FFFEFE\">access</span> <span style=\"background-color: #FFFEFE\">and</span> <span style=\"background-color: #F8F8FF\">infusion</span> <span style=\"background-color: #F8F8FF\">you</span> <span style=\"background-color: #F8F8FF\">must</span> <span style=\"background-color: #FEFEFF\">have</span> <span style=\"background-color: #F6F6FF\">/</span> <span style=\"background-color: #FFFCFC\">be</span> <span style=\"background-color: #FFFEFE\">the</span> <span style=\"background-color: #FFFEFE\">following</span> <span style=\"background-color: #FFF6F6\">at</span> <span style=\"background-color: #FFFEFE\">least</span> <span style=\"background-color: #FFFEFE\">2</span> <span style=\"background-color: #FFEAEA\">years</span> <span style=\"background-color: #FFFEFE\">medical</span> <span style=\"background-color: #FFFCFC\">device</span> <span style=\"background-color: #FFFCFC\">sales</span> <span style=\"background-color: #FFFCFC\">experience</span> <span style=\"background-color: #FFF6F6\">.</span> <span style=\"background-color: #FFFCFC\">candidates</span> <span style=\"background-color: #F6F6FF\">who</span> <span style=\"background-color: #FFFEFE\">have</span> <span style=\"background-color: #FFF2F2\">sold</span> <span style=\"background-color: #FFE2E2\">disposables</span> <span style=\"background-color: #FFE2E2\">/</span> <span style=\"background-color: #EEEEFF\">consumables</span> <span style=\"background-color: #FFFEFE\">or</span> <span style=\"background-color: #FFFEFE\">similar</span> <span style=\"background-color: #FFFEFE\">into</span> <span style=\"background-color: #F0F0FF\">hospitals</span> <span style=\"background-color: #F0F0FF\">would</span> <span style=\"background-color: #E8E8FF\">be</span> <span style=\"background-color: #F8F8FF\">of</span> <span style=\"background-color: #FFF2F2\">particular</span> <span style=\"background-color: #FCFCFF\">interest</span> <span style=\"background-color: #FCFCFF\">.</span> <span style=\"background-color: #FCFCFF\">candidates</span> <span style=\"background-color: #F2F2FF\">must</span> <span style=\"background-color: #F0F0FF\">have</span> <span style=\"background-color: #ECECFF\">sold</span> <span style=\"background-color: #FFFEFE\">into</span> <span style=\"background-color: #FFD8D8\">hospitals</span> <span style=\"background-color: #FFD6D6\">demonstrable</span> <span style=\"background-color: #FFD8D8\">performance</span> <span style=\"background-color: #FFFAFA\">and</span> <span style=\"background-color: #FFFEFE\">achievements</span> <span style=\"background-color: #C2C2FF\">so</span> <span style=\"background-color: #E2E2FF\">far</span> <span style=\"background-color: #E2E2FF\">personable</span> <span style=\"background-color: #FFE4E4\">,</span> <span style=\"background-color: #FFFEFE\">adaptable</span> <span style=\"background-color: #FFFEFE\">and</span> <span style=\"background-color: #FFF2F2\">willing</span> <span style=\"background-color: #FFFEFE\">to</span> <span style=\"background-color: #E0E0FF\">learn</span> <span style=\"background-color: #FFFEFE\">keen</span> <span style=\"background-color: #FFFEFE\">and</span> <span style=\"background-color: #FFFAFA\">eager</span> <span style=\"background-color: #FFFEFE\">to</span> <span style=\"background-color: #FAFAFF\">be</span> <span style=\"background-color: #FFFCFC\">a</span> <span style=\"background-color: #FFFAFA\">success</span> <span style=\"background-color: #FFFEFE\">candidates</span> <span style=\"background-color: #FFEEEE\">must</span> <span style=\"background-color: #FFEEEE\">have</span> <span style=\"background-color: #FFECEC\">a</span> <span style=\"background-color: #FCFCFF\">degree</span> <span style=\"background-color: #FCFCFF\">or</span> <span style=\"background-color: #FFE8E8\">at</span> <span style=\"background-color: #FFFAFA\">least</span> <span style=\"background-color: #FFFAFA\">be</span> <span style=\"background-color: #FFFAFA\">able</span> <span style=\"background-color: #FFFCFC\">to</span> <span style=\"background-color: #FFFEFE\">show</span> <span style=\"background-color: #FFFEFE\">a</span> <span style=\"background-color: #FFFEFE\">strong</span> <span style=\"background-color: #FFFEFE\">ability</span> <span style=\"background-color: #FFFEFE\">to</span> <span style=\"background-color: #FEFEFF\">learn</span> <span style=\"background-color: #FFFEFE\">role</span> <span style=\"background-color: #FFFEFE\">information</span> <span style=\"background-color: #FFFCFC\">managing</span> <span style=\"background-color: #FFF6F6\">the</span> <span style=\"background-color: #FFFEFE\">east</span> <span style=\"background-color: #FFECEC\">midlands</span> <span style=\"background-color: #FFFEFE\">region</span> <span style=\"background-color: #FFFEFE\">selling</span> <span style=\"background-color: #FFFEFE\">across</span> <span style=\"background-color: #FFFEFE\">the</span> <span style=\"background-color: #FFFEFE\">company</span> <span style=\"background-color: #FFFEFE\">'</span> <span style=\"background-color: #FFFEFE\">s</span> <span style=\"background-color: #F6F6FF\">range</span> <span style=\"background-color: #FFFEFE\">of</span> <span style=\"background-color: #FFFEFE\">iv</span> <span style=\"background-color: #FFF4F4\">and</span> <span style=\"background-color: #FFFCFC\">infusion</span> <span style=\"background-color: #FFFEFE\">solutions</span> <span style=\"background-color: #FFFCFC\">portfolio</span> <span style=\"background-color: #FCFCFF\">selling</span> <span style=\"background-color: #FAFAFF\">into</span> <span style=\"background-color: #FFF6F6\">lead</span> <span style=\"background-color: #FFF0F0\">intensive</span> <span style=\"background-color: #FFFEFE\">care</span> <span style=\"background-color: #FFFEFE\">nurse</span> <span style=\"background-color: #FFE2E2\">specialists</span> <span style=\"background-color: #FFFEFE\">,</span> <span style=\"background-color: #FFF6F6\">ward</span> <span style=\"background-color: #FFF6F6\">managers</span> <span style=\"background-color: #FEFEFF\">,</span> <span style=\"background-color: #FFFAFA\">iv</span> <span style=\"background-color: #FFFEFE\">teams</span> <span style=\"background-color: #FFEEEE\">,</span> <span style=\"background-color: #FFFEFE\">infection</span> <span style=\"background-color: #FFF6F6\">control</span> <span style=\"background-color: #F3F3FF\">teams</span> <span style=\"background-color: #FFF4F4\">,</span> <span style=\"background-color: #FFFEFE\">procurement</span> <span style=\"background-color: #FFFEFE\">sales</span> <span style=\"background-color: #FFFEFE\">specialist</span> <span style=\"background-color: #FFF8F8\">iv</span> <span style=\"background-color: #FFFEFE\">access</span> <span style=\"background-color: #FFFEFE\">and</span> <span style=\"background-color: #FFF4F4\">infusion</span> <span style=\"background-color: #FFECEC\">candidates</span> <span style=\"background-color: #F8F8FF\">must</span> <span style=\"background-color: #FAFAFF\">be</span> <span style=\"background-color: #FFFEFE\">eligible</span> <span style=\"background-color: #BEBEFF\">to</span> <span style=\"background-color: #9898FF\">work</span> <span style=\"background-color: #9A9AFF\">and</span> <span style=\"background-color: #FFF6F6\">live</span> <span style=\"background-color: #FFFEFE\">in</span> <span style=\"background-color: #FFFEFE\">the</span> <span style=\"background-color: #FFFCFC\">uk</span> <span style=\"background-color: #F8F8FF\">.</span> <span style=\"background-color: #F2F2FF\">please</span> <span style=\"background-color: #FFDADA\">contact</span> <span style=\"background-color: #FFFEFE\">allan</span> <span style=\"background-color: #FFF6F6\">waller</span> <span style=\"background-color: #FFFEFE\">on</span> <span style=\"background-color: #FFFEFE\">****</span> <span style=\"background-color: #FFFAFA\">****</span> <span style=\"background-color: #FFFCFC\">****</span> <span style=\"background-color: #FFFCFC\">or</span> <span style=\"background-color: #FFFCFC\">please</span> <span style=\"background-color: #FFF4F4\">hit</span> <span style=\"background-color: #FFECEC\">the</span> <span style=\"background-color: #FFFEFE\">apply</span> <span style=\"background-color: #FFFEFE\">button</span> <span style=\"background-color: #FFFEFE\">.</span> <span style=\"background-color: #FFFEFE\">this</span> <span style=\"background-color: #FFFEFE\">job</span> <span style=\"background-color: #FFFEFE\">was</span> <span style=\"background-color: #FFFEFE\">originally</span> <span style=\"background-color: #FFFCFC\">posted</span> <span style=\"background-color: #7474FF\">as</span> <span style=\"background-color: #ECECFF\">www</span> <span style=\"background-color: #6E6EFF\">.</span> <span style=\"background-color: #FFFEFE\">salestarget</span> <span style=\"background-color: #FFFEFE\">.</span> <span style=\"background-color: #FFFEFE\">co</span> <span style=\"background-color: #FFFEFE\">.</span> <span style=\"background-color: #FFFEFE\">uk</span> <span style=\"background-color: #FFFCFC\">/</span> <span style=\"background-color: #FFFCFC\">jobseeking</span> <span style=\"background-color: #FFFCFC\">/</span> <span style=\"background-color: #FFFEFE\">UNK</span> <span style=\"background-color: #FFFEFE\">****</span></p>"
      ]
     },
     "metadata": {},
     "output_type": "display_data"
    }
   ],
   "source": [
    "i = 36605\n",
    "tokens_and_weights = explain(model, data.loc[i], \"Title\")\n",
    "draw_html([(tok, weight * 5) for tok, weight in tokens_and_weights], font_style='font-size:20px;');\n",
    "\n",
    "tokens_and_weights = explain(model, data.loc[i], \"FullDescription\")\n",
    "draw_html([(tok, weight * 10) for tok, weight in tokens_and_weights]);"
   ]
  },
  {
   "cell_type": "code",
   "execution_count": 95,
   "metadata": {},
   "outputs": [
    {
     "data": {
      "text/html": [
       "<p style=\"font-size:20px;\"><span style=\"background-color: #BEBEFF\">laundry</span> <span style=\"background-color: #FFD2D2\">assistant</span> <span style=\"background-color: #CACAFF\">bank</span></p>"
      ]
     },
     "metadata": {},
     "output_type": "display_data"
    },
    {
     "data": {
      "text/html": [
       "<p style=\"font-size:14px;\"><span style=\"background-color: #FEFEFF\">about</span> <span style=\"background-color: #FEFEFF\">the</span> <span style=\"background-color: #FFF8F8\">role</span> <span style=\"background-color: #FFEAEA\">:</span> <span style=\"background-color: #FFE6E6\">bank</span> <span style=\"background-color: #FFCACA\">tenterden</span> <span style=\"background-color: #FFFEFE\">house</span> <span style=\"background-color: #FFE4E4\">nursing</span> <span style=\"background-color: #FFFEFE\">home</span> <span style=\"background-color: #FFFCFC\">you</span> <span style=\"background-color: #FFFEFE\">will</span> <span style=\"background-color: #FFFAFA\">be</span> <span style=\"background-color: #FFFCFC\">responsible</span> <span style=\"background-color: #F0F0FF\">for</span> <span style=\"background-color: #FFFCFC\">maintaining</span> <span style=\"background-color: #FEFEFF\">the</span> <span style=\"background-color: #FFF0F0\">highest</span> <span style=\"background-color: #FFFEFE\">standards</span> <span style=\"background-color: #FFFEFE\">of</span> <span style=\"background-color: #FFF6F6\">laundry</span> <span style=\"background-color: #FFFEFE\">within</span> <span style=\"background-color: #FFFAFA\">the</span> <span style=\"background-color: #FFFEFE\">home</span> <span style=\"background-color: #FFFEFE\">keeping</span> <span style=\"background-color: #FAFAFF\">our</span> <span style=\"background-color: #F8F8FF\">residents</span> <span style=\"background-color: #E3E3FF\">’</span> <span style=\"background-color: #EAEAFF\">clothing</span> <span style=\"background-color: #FFEEEE\">looking</span> <span style=\"background-color: #FFFEFE\">and</span> <span style=\"background-color: #FEFEFF\">feeling</span> <span style=\"background-color: #FEFEFF\">great</span> <span style=\"background-color: #FEFEFF\">,</span> <span style=\"background-color: #FFF0F0\">you</span> <span style=\"background-color: #FFFEFE\">will</span> <span style=\"background-color: #FFFAFA\">be</span> <span style=\"background-color: #FFFEFE\">responsible</span> <span style=\"background-color: #FFFAFA\">for</span> <span style=\"background-color: #FFF8F8\">washing</span> <span style=\"background-color: #D6D6FF\">,</span> <span style=\"background-color: #BCBCFF\">drying</span> <span style=\"background-color: #FFF4F4\">,</span> <span style=\"background-color: #FEFEFF\">ironing</span> <span style=\"background-color: #F6F6FF\">and</span> <span style=\"background-color: #F6F6FF\">repairing</span> <span style=\"background-color: #F6F6FF\">items</span> <span style=\"background-color: #FFFCFC\">as</span> <span style=\"background-color: #E6E6FF\">needed</span> <span style=\"background-color: #FFF2F2\">you</span> <span style=\"background-color: #FFF4F4\">will</span> <span style=\"background-color: #FAFAFF\">maintain</span> <span style=\"background-color: #FFCCCC\">linen</span> <span style=\"background-color: #FFFCFC\">stocks</span> <span style=\"background-color: #FFFEFE\">for</span> <span style=\"background-color: #FFFEFE\">day</span> <span style=\"background-color: #FFFEFE\">to</span> <span style=\"background-color: #F0F0FF\">day</span> <span style=\"background-color: #FFFEFE\">use</span> <span style=\"background-color: #FFE6E6\">and</span> <span style=\"background-color: #FFF8F8\">raise</span> <span style=\"background-color: #FFF6F6\">any</span> <span style=\"background-color: #FFFAFA\">issues</span> <span style=\"background-color: #E0E0FF\">to</span> <span style=\"background-color: #F3F3FF\">the</span> <span style=\"background-color: #F8F8FF\">senior</span> <span style=\"background-color: #FFF8F8\">housekeeper</span> <span style=\"background-color: #E3E3FF\">as</span> <span style=\"background-color: #F2F2FF\">you</span> <span style=\"background-color: #FFE8E8\">go</span> <span style=\"background-color: #F8F8FF\">.</span> <span style=\"background-color: #EAEAFF\">who</span> <span style=\"background-color: #FFFEFE\">we</span> <span style=\"background-color: #FCFCFF\">’</span> <span style=\"background-color: #FFFEFE\">re</span> <span style=\"background-color: #FFF8F8\">looking</span> <span style=\"background-color: #F6F6FF\">for</span> <span style=\"background-color: #FFFAFA\">you</span> <span style=\"background-color: #FCFCFF\">will</span> <span style=\"background-color: #FFE0E0\">take</span> <span style=\"background-color: #FFF0F0\">real</span> <span style=\"background-color: #FFD0D0\">pride</span> <span style=\"background-color: #2222FF\">in</span> <span style=\"background-color: #F3F3FF\">ensuring</span> <span style=\"background-color: #FFFEFE\">your</span> <span style=\"background-color: #E0E0FF\">work</span> <span style=\"background-color: #FFFEFE\">is</span> <span style=\"background-color: #FFFCFC\">always</span> <span style=\"background-color: #A2A2FF\">completed</span> <span style=\"background-color: #9898FF\">to</span> <span style=\"background-color: #7979FF\">the</span> <span style=\"background-color: #FFFEFE\">highest</span> <span style=\"background-color: #FFF6F6\">standard</span> <span style=\"background-color: #FEFEFF\">.</span> <span style=\"background-color: #FCFCFF\">you</span> <span style=\"background-color: #F8F8FF\">will</span> <span style=\"background-color: #FFEEEE\">enjoy</span> <span style=\"background-color: #FF9E9E\">creating</span> <span style=\"background-color: #FFF6F6\">and</span> <span style=\"background-color: #FFFEFE\">environment</span> <span style=\"background-color: #ECECFF\">that</span> <span style=\"background-color: #FFBABA\">’</span> <span style=\"background-color: #FFBCBC\">s</span> <span style=\"background-color: #FFFEFE\">well</span> <span style=\"background-color: #FFFEFE\">maintained</span> <span style=\"background-color: #FFEEEE\">,</span> <span style=\"background-color: #FFFEFE\">making</span> <span style=\"background-color: #FFFEFE\">sure</span> <span style=\"background-color: #FFF2F2\">our</span> <span style=\"background-color: #FFF8F8\">residents</span> <span style=\"background-color: #FEFEFF\">lives</span> <span style=\"background-color: #FEFEFF\">are</span> <span style=\"background-color: #FFFEFE\">longer</span> <span style=\"background-color: #FCFCFF\">,</span> <span style=\"background-color: #FCFCFF\">happier</span> <span style=\"background-color: #FCFCFF\">and</span> <span style=\"background-color: #FFFAFA\">healthier</span> <span style=\"background-color: #F0F0FF\">.</span> <span style=\"background-color: #FFFEFE\">what</span> <span style=\"background-color: #FFF6F6\">’</span> <span style=\"background-color: #FFD6D6\">s</span> <span style=\"background-color: #FFFEFE\">in</span> <span style=\"background-color: #FFFEFE\">it</span> <span style=\"background-color: #FFF0F0\">for</span> <span style=\"background-color: #FFF0F0\">you</span> <span style=\"background-color: #FFECEC\">?</span> <span style=\"background-color: #FFF8F8\">bupa</span> <span style=\"background-color: #FFFAFA\">care</span> <span style=\"background-color: #FFE8E8\">homes</span> <span style=\"background-color: #FFFAFA\">values</span> <span style=\"background-color: #FFFEFE\">its</span> <span style=\"background-color: #FFFEFE\">people</span> <span style=\"background-color: #FFFEFE\">,</span> <span style=\"background-color: #FFFEFE\">so</span> <span style=\"background-color: #C0C0FF\">you</span> <span style=\"background-color: #CACAFF\">can</span> <span style=\"background-color: #C0C0FF\">expect</span> <span style=\"background-color: #FFB8B8\">a</span> <span style=\"background-color: #FEFEFF\">competitive</span> <span style=\"background-color: #C2C2FF\">pay</span> <span style=\"background-color: #6161FF\">rate</span> <span style=\"background-color: #D3D3FF\">and</span> <span style=\"background-color: #FFEEEE\">benefits</span> <span style=\"background-color: #FFFEFE\">that</span> <span style=\"background-color: #FCFCFF\">include</span> <span style=\"background-color: #FAFAFF\">:</span> <span style=\"background-color: #FFF4F4\">•</span> <span style=\"background-color: #FFEAEA\">free</span> <span style=\"background-color: #FFE6E6\">uniforms</span> <span style=\"background-color: #FFFEFE\">•</span> <span style=\"background-color: #FFFEFE\">comprehensive</span> <span style=\"background-color: #FCFCFF\">induction</span> <span style=\"background-color: #FFF2F2\">and</span> <span style=\"background-color: #FFE8E8\">ongoing</span> <span style=\"background-color: #FFFEFE\">training</span> <span style=\"background-color: #FFFEFE\">and</span> <span style=\"background-color: #FFF8F8\">development</span> <span style=\"background-color: #FFD6D6\">•</span> <span style=\"background-color: #FFF8F8\">competitive</span> <span style=\"background-color: #FFEEEE\">staff</span> <span style=\"background-color: #FFF6F6\">benefits</span> <span style=\"background-color: #FFFAFA\">such</span> <span style=\"background-color: #FFFAFA\">as</span> <span style=\"background-color: #FFD8D8\">weekly</span> <span style=\"background-color: #FFEEEE\">staff</span> <span style=\"background-color: #FCFCFF\">offers</span> <span style=\"background-color: #FFFEFE\">and</span> <span style=\"background-color: #FFFEFE\">discounts</span> <span style=\"background-color: #EEEEFF\">•</span> <span style=\"background-color: #FFF0F0\">stakeholder</span> <span style=\"background-color: #F2F2FF\">pension</span> <span style=\"background-color: #FFECEC\">and</span> <span style=\"background-color: #FFACAC\">life</span> <span style=\"background-color: #FFA3A3\">assurance</span> <span style=\"background-color: #FFCCCC\">scheme</span> <span style=\"background-color: #FFF6F6\">available</span> <span style=\"background-color: #E0E0FF\">.</span> <span style=\"background-color: #FFF2F2\">who</span> <span style=\"background-color: #FFF2F2\">we</span> <span style=\"background-color: #FFF4F4\">are</span> <span style=\"background-color: #FFE0E0\">bupa</span> <span style=\"background-color: #FFE6E6\">care</span> <span style=\"background-color: #FFF8F8\">homes</span> <span style=\"background-color: #FEFEFF\">provides</span> <span style=\"background-color: #FFFEFE\">expert</span> <span style=\"background-color: #FAFAFF\">nursing</span> <span style=\"background-color: #FFFAFA\">,</span> <span style=\"background-color: #FFFEFE\">dementia</span> <span style=\"background-color: #E6E6FF\">,</span> <span style=\"background-color: #EAEAFF\">residential</span> <span style=\"background-color: #E3E3FF\">and</span> <span style=\"background-color: #FFFEFE\">specialist</span> <span style=\"background-color: #FFEAEA\">care</span> <span style=\"background-color: #FFF6F6\">to</span> <span style=\"background-color: #FCFCFF\">almost</span> <span style=\"background-color: #FFFEFE\">****</span> <span style=\"background-color: #FCFCFF\">people</span> <span style=\"background-color: #FFFEFE\">in</span> <span style=\"background-color: #FFFEFE\">over</span> <span style=\"background-color: #FFF8F8\">****</span> <span style=\"background-color: #F3F3FF\">uk</span> <span style=\"background-color: #FFFEFE\">homes</span> <span style=\"background-color: #FFB0B0\">.</span> <span style=\"background-color: #FFF2F2\">our</span> <span style=\"background-color: #FFF2F2\">purpose</span> <span style=\"background-color: #FFEEEE\">is</span> <span style=\"background-color: #FFFCFC\">to</span> <span style=\"background-color: #FFF4F4\">help</span> <span style=\"background-color: #FFFEFE\">people</span> <span style=\"background-color: #FFFEFE\">live</span> <span style=\"background-color: #FFFEFE\">longer</span> <span style=\"background-color: #FFFEFE\">,</span> <span style=\"background-color: #FFFEFE\">healthier</span> <span style=\"background-color: #FAFAFF\">,</span> <span style=\"background-color: #FFEAEA\">happier</span> <span style=\"background-color: #FFD8D8\">lives</span> <span style=\"background-color: #FFD6D6\">to</span> <span style=\"background-color: #FFCCCC\">apply</span> <span style=\"background-color: #FFD3D3\">please</span> <span style=\"background-color: #FFFEFE\">visit</span> <span style=\"background-color: #FFFEFE\">www</span> <span style=\"background-color: #FFFEFE\">.</span> <span style=\"background-color: #FFFEFE\">bupa</span> <span style=\"background-color: #FFFEFE\">.</span> <span style=\"background-color: #F6F6FF\">co</span> <span style=\"background-color: #FEFEFF\">.</span> <span style=\"background-color: #FCFCFF\">uk</span> <span style=\"background-color: #FCFCFF\">/</span> <span style=\"background-color: #FFFEFE\">careers</span></p>"
      ]
     },
     "metadata": {},
     "output_type": "display_data"
    }
   ],
   "source": [
    "i = 12176\n",
    "tokens_and_weights = explain(model, data.loc[i], \"Title\")\n",
    "draw_html([(tok, weight * 5) for tok, weight in tokens_and_weights], font_style='font-size:20px;');\n",
    "\n",
    "tokens_and_weights = explain(model, data.loc[i], \"FullDescription\")\n",
    "draw_html([(tok, weight * 10) for tok, weight in tokens_and_weights]);"
   ]
  },
  {
   "cell_type": "code",
   "execution_count": 101,
   "metadata": {},
   "outputs": [
    {
     "name": "stdout",
     "output_type": "stream",
     "text": [
      "Index: 225800\n",
      "Salary (gbp): tensor([22238.3340, 10826.6865])\n"
     ]
    },
    {
     "data": {
      "text/html": [
       "<p style=\"font-size:20px;\"><span style=\"background-color: #C2C2FF\">solar</span> <span style=\"background-color: #EEEEFF\">sales</span> <span style=\"background-color: #DADAFF\">advisor</span></p>"
      ]
     },
     "metadata": {},
     "output_type": "display_data"
    },
    {
     "data": {
      "text/html": [
       "<p style=\"font-size:14px;\"><span style=\"background-color: #FFFEFE\">solar</span> <span style=\"background-color: #FFFEFE\">plus</span> <span style=\"background-color: #FFE2E2\">yorkshire</span> <span style=\"background-color: #FFF6F6\">is</span> <span style=\"background-color: #FFCACA\">a</span> <span style=\"background-color: #FEFEFF\">well</span> <span style=\"background-color: #FFECEC\">established</span> <span style=\"background-color: #FFFEFE\">renewable</span> <span style=\"background-color: #FFFEFE\">installation</span> <span style=\"background-color: #FFF8F8\">company</span> <span style=\"background-color: #FFFEFE\">and</span> <span style=\"background-color: #FFFCFC\">has</span> <span style=\"background-color: #FFFAFA\">been</span> <span style=\"background-color: #FFFEFE\">operating</span> <span style=\"background-color: #FFE8E8\">in</span> <span style=\"background-color: #FCFCFF\">the</span> <span style=\"background-color: #F3F3FF\">north</span> <span style=\"background-color: #FFD3D3\">of</span> <span style=\"background-color: #FFE8E8\">england</span> <span style=\"background-color: #FFE4E4\">for</span> <span style=\"background-color: #FEFEFF\">the</span> <span style=\"background-color: #F3F3FF\">past</span> <span style=\"background-color: #FFFAFA\">3</span> <span style=\"background-color: #FFFEFE\">years</span> <span style=\"background-color: #C8C8FF\">.</span> <span style=\"background-color: #C8C8FF\">due</span> <span style=\"background-color: #E2E2FF\">to</span> <span style=\"background-color: #FFF8F8\">the</span> <span style=\"background-color: #FFF4F4\">expanding</span> <span style=\"background-color: #F2F2FF\">market</span> <span style=\"background-color: #FFF0F0\">and</span> <span style=\"background-color: #FFE2E2\">demand</span> <span style=\"background-color: #FFF0F0\">for</span> <span style=\"background-color: #FFFCFC\">renewable</span> <span style=\"background-color: #FFFEFE\">we</span> <span style=\"background-color: #FFF2F2\">are</span> <span style=\"background-color: #FCFCFF\">now</span> <span style=\"background-color: #FFF6F6\">looking</span> <span style=\"background-color: #FFD2D2\">to</span> <span style=\"background-color: #FFFEFE\">recruit</span> <span style=\"background-color: #FFF2F2\">a</span> <span style=\"background-color: #FFFCFC\">new</span> <span style=\"background-color: #FFEEEE\">sale</span> <span style=\"background-color: #ECECFF\">person</span> <span style=\"background-color: #FFC2C2\">to</span> <span style=\"background-color: #FFF8F8\">join</span> <span style=\"background-color: #FFF2F2\">our</span> <span style=\"background-color: #FFEEEE\">team</span> <span style=\"background-color: #FFECEC\">.</span> <span style=\"background-color: #FFEAEA\">you</span> <span style=\"background-color: #FFFEFE\">must</span> <span style=\"background-color: #FFFAFA\">feel</span> <span style=\"background-color: #FFFEFE\">confident</span> <span style=\"background-color: #FFE2E2\">and</span> <span style=\"background-color: #FFCCCC\">comfortable</span> <span style=\"background-color: #FFF0F0\">giving</span> <span style=\"background-color: #FFFCFC\">a</span> <span style=\"background-color: #FFF4F4\">sales</span> <span style=\"background-color: #FFFEFE\">pitch</span> <span style=\"background-color: #FCFCFF\">to</span> <span style=\"background-color: #F2F2FF\">a</span> <span style=\"background-color: #FFF6F6\">potential</span> <span style=\"background-color: #F8F8FF\">client</span> <span style=\"background-color: #FAFAFF\">in</span> <span style=\"background-color: #FFFEFE\">there</span> <span style=\"background-color: #FFECEC\">own</span> <span style=\"background-color: #FFF0F0\">home</span> <span style=\"background-color: #FFFAFA\">these</span> <span style=\"background-color: #FFFEFE\">are</span> <span style=\"background-color: #FFD8D8\">appointments</span> <span style=\"background-color: #FFFEFE\">book</span> <span style=\"background-color: #F6F6FF\">in</span> <span style=\"background-color: #F8F8FF\">advance</span> <span style=\"background-color: #F6F6FF\">and</span> <span style=\"background-color: #FFF6F6\">confirmed</span> <span style=\"background-color: #FFE2E2\">by</span> <span style=\"background-color: #FFB2B2\">one</span> <span style=\"background-color: #FFDADA\">of</span> <span style=\"background-color: #FFD3D3\">our</span> <span style=\"background-color: #FCFCFF\">operatives</span> <span style=\"background-color: #F8F8FF\">to</span> <span style=\"background-color: #FFE8E8\">give</span> <span style=\"background-color: #FFD3D3\">you</span> <span style=\"background-color: #FFFEFE\">the</span> <span style=\"background-color: #FFF2F2\">best</span> <span style=\"background-color: #FFF4F4\">chance</span> <span style=\"background-color: #FFFCFC\">of</span> <span style=\"background-color: #FFDCDC\">selling</span> <span style=\"background-color: #FFF2F2\">,</span> <span style=\"background-color: #FFF6F6\">due</span> <span style=\"background-color: #FFF2F2\">to</span> <span style=\"background-color: #FFFCFC\">the</span> <span style=\"background-color: #FAFAFF\">nature</span> <span style=\"background-color: #FFF4F4\">of</span> <span style=\"background-color: #FFFAFA\">these</span> <span style=\"background-color: #FEFEFF\">pitches</span> <span style=\"background-color: #FFBCBC\">you</span> <span style=\"background-color: #FFFEFE\">do</span> <span style=\"background-color: #FFF0F0\">not</span> <span style=\"background-color: #FFFEFE\">need</span> <span style=\"background-color: #FFDCDC\">any</span> <span style=\"background-color: #FFFCFC\">previous</span> <span style=\"background-color: #FEFEFF\">experience</span> <span style=\"background-color: #FEFEFF\">selling</span> <span style=\"background-color: #FFF8F8\">renewable</span> <span style=\"background-color: #FFFEFE\">but</span> <span style=\"background-color: #ECECFF\">a</span> <span style=\"background-color: #E3E3FF\">strong</span> <span style=\"background-color: #FFFAFA\">sales</span> <span style=\"background-color: #FFE4E4\">background</span> <span style=\"background-color: #FFE0E0\">is</span> <span style=\"background-color: #FFFEFE\">preferred</span> <span style=\"background-color: #FFFEFE\">.</span> <span style=\"background-color: #FFDCDC\">you</span> <span style=\"background-color: #FEFEFF\">will</span> <span style=\"background-color: #FFEAEA\">need</span> <span style=\"background-color: #FFFEFE\">to</span> <span style=\"background-color: #FFFCFC\">travel</span> <span style=\"background-color: #FFD0D0\">to</span> <span style=\"background-color: #FFFAFA\">these</span> <span style=\"background-color: #FFF4F4\">appointments</span> <span style=\"background-color: #A6A6FF\">in</span> <span style=\"background-color: #F3F3FF\">the</span> <span style=\"background-color: #FFFCFC\">areas</span> <span style=\"background-color: #FFECEC\">of</span> <span style=\"background-color: #FFE8E8\">york</span> <span style=\"background-color: #FAFAFF\">,</span> <span style=\"background-color: #FFE8E8\">harrogate</span> <span style=\"background-color: #E2E2FF\">,</span> <span style=\"background-color: #CACAFF\">leeds</span> <span style=\"background-color: #DEDEFF\">,</span> <span style=\"background-color: #FFE0E0\">doncaster</span> <span style=\"background-color: #FFE8E8\">,</span> <span style=\"background-color: #F6F6FF\">darlington</span> <span style=\"background-color: #FFFAFA\">and</span> <span style=\"background-color: #FFDEDE\">scarborough</span> <span style=\"background-color: #FFFCFC\">.</span> <span style=\"background-color: #FFDCDC\">you</span> <span style=\"background-color: #FEFEFF\">will</span> <span style=\"background-color: #D2D2FF\">need</span> <span style=\"background-color: #BEBEFF\">to</span> <span style=\"background-color: #BEBEFF\">be</span> <span style=\"background-color: #FFE2E2\">confident</span> <span style=\"background-color: #FFDADA\">,</span> <span style=\"background-color: #FFDCDC\">approachable</span> <span style=\"background-color: #FFFCFC\">and</span> <span style=\"background-color: #FFF2F2\">well</span> <span style=\"background-color: #FFFEFE\">presented</span> <span style=\"background-color: #FFFAFA\">to</span> <span style=\"background-color: #F0F0FF\">be</span> <span style=\"background-color: #FFF4F4\">considered</span> <span style=\"background-color: #F3F3FF\">for</span> <span style=\"background-color: #FFFEFE\">this</span> <span style=\"background-color: #FFFAFA\">role</span> <span style=\"background-color: #FFE0E0\">as</span> <span style=\"background-color: #FFFEFE\">well</span> <span style=\"background-color: #FFFEFE\">as</span> <span style=\"background-color: #FFFEFE\">needing</span> <span style=\"background-color: #FFF2F2\">a</span> <span style=\"background-color: #FFF6F6\">reliable</span> <span style=\"background-color: #FFFEFE\">car</span> <span style=\"background-color: #FFD8D8\">,</span> <span style=\"background-color: #FFF8F8\">internet</span> <span style=\"background-color: #FFFEFE\">access</span> <span style=\"background-color: #FFFEFE\">and</span> <span style=\"background-color: #FFF4F4\">a</span> <span style=\"background-color: #FFFAFA\">phone</span> <span style=\"background-color: #FFFCFC\">this</span> <span style=\"background-color: #FFDEDE\">is</span> <span style=\"background-color: #FFE2E2\">a</span> <span style=\"background-color: #FFFEFE\">commission</span> <span style=\"background-color: #FFE0E0\">based</span> <span style=\"background-color: #FFFCFC\">role</span> <span style=\"background-color: #E6E6FF\">and</span> <span style=\"background-color: #FFFAFA\">uncapped</span> <span style=\"background-color: #FFFEFE\">you</span> <span style=\"background-color: #FFFEFE\">will</span> <span style=\"background-color: #FFE6E6\">earn</span> <span style=\"background-color: #FFECEC\">in</span> <span style=\"background-color: #C2C2FF\">excess</span> <span style=\"background-color: #E2E2FF\">of</span> <span style=\"background-color: #FFF0F0\">****</span> <span style=\"background-color: #FAFAFF\">k</span> <span style=\"background-color: #FFEAEA\">a</span> <span style=\"background-color: #F8F8FF\">year</span> <span style=\"background-color: #FFECEC\">.</span> <span style=\"background-color: #F2F2FF\">to</span> <span style=\"background-color: #F6F6FF\">apply</span> <span style=\"background-color: #FFF4F4\">for</span> <span style=\"background-color: #FFFEFE\">this</span> <span style=\"background-color: #FFF2F2\">role</span> <span style=\"background-color: #FFE2E2\">please</span> <span style=\"background-color: #FFE8E8\">sent</span> <span style=\"background-color: #FAFAFF\">your</span> <span style=\"background-color: #F0F0FF\">cv</span> <span style=\"background-color: #FFDCDC\">and</span> <span style=\"background-color: #FFFEFE\">covering</span> <span style=\"background-color: #FFF4F4\">letter</span> <span style=\"background-color: #FFDCDC\">to</span> <span style=\"background-color: #FFFEFE\">UNK</span> <span style=\"background-color: #FFE6E6\">.</span> <span style=\"background-color: #FFFEFE\">co</span> <span style=\"background-color: #FFFAFA\">.</span> <span style=\"background-color: #FFFEFE\">uk</span> <span style=\"background-color: #FFE8E8\">.</span> <span style=\"background-color: #FAFAFF\">this</span> <span style=\"background-color: #FFF8F8\">job</span> <span style=\"background-color: #FEFEFF\">was</span> <span style=\"background-color: #FFECEC\">originally</span> <span style=\"background-color: #FFE6E6\">posted</span> <span style=\"background-color: #BABAFF\">as</span> <span style=\"background-color: #F2F2FF\">www</span> <span style=\"background-color: #A6A6FF\">.</span> <span style=\"background-color: #FF9E9E\">totaljobs</span> <span style=\"background-color: #FFDCDC\">.</span> <span style=\"background-color: #FFA0A0\">com</span> <span style=\"background-color: #F0F0FF\">/</span> <span style=\"background-color: #FFF0F0\">jobseeking</span> <span style=\"background-color: #FFE6E6\">/</span> <span style=\"background-color: #FFFEFE\">UNK</span> <span style=\"background-color: #FFFEFE\">****</span></p>"
      ]
     },
     "metadata": {},
     "output_type": "display_data"
    }
   ],
   "source": [
    "i = np.random.randint(len(data))\n",
    "print(\"Index:\", i)\n",
    "print(\"Salary (gbp):\", np.expm1(model(make_batch(data.iloc[i: i+2], device=device)).detach().cpu()))\n",
    "\n",
    "tokens_and_weights = explain(model, data.loc[i], \"Title\")\n",
    "draw_html([(tok, weight * 5) for tok, weight in tokens_and_weights], font_style='font-size:20px;');\n",
    "\n",
    "tokens_and_weights = explain(model, data.loc[i], \"FullDescription\")\n",
    "draw_html([(tok, weight * 10) for tok, weight in tokens_and_weights]);"
   ]
  },
  {
   "cell_type": "markdown",
   "metadata": {},
   "source": [
    "__Terrible start-up idea #1962:__ make a tool that automaticaly rephrases your job description (or CV) to meet salary expectations :)"
   ]
  }
 ],
 "metadata": {
  "kernelspec": {
   "display_name": "Python 3 (ipykernel)",
   "language": "python",
   "name": "python3"
  },
  "language_info": {
   "codemirror_mode": {
    "name": "ipython",
    "version": 3
   },
   "file_extension": ".py",
   "mimetype": "text/x-python",
   "name": "python",
   "nbconvert_exporter": "python",
   "pygments_lexer": "ipython3",
   "version": "3.9.12"
  }
 },
 "nbformat": 4,
 "nbformat_minor": 4
}
